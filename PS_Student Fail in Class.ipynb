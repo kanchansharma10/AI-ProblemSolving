{
 "cells": [
  {
   "cell_type": "markdown",
   "id": "60b580ea-fc2e-4fae-8152-0d5d33c9edf0",
   "metadata": {},
   "source": [
    "<div style=\"background-color: #add8e6; padding: 10px; height: 70px; border-radius: 15px;\">\n",
    "    <div style=\"font-family: 'Georgia', serif; font-size: 20px; padding: 10px; text-align: right; position: absolute; right: 20px;\">\n",
    "        Kanchan Sharma <br>\n",
    "        <span style=\"font-family: 'Arial', sans-serif;font-size: 12px; color: #0a0a0a;\">Tech Skills Trainee | AI/ML Bootcamp</span> \n",
    "    </div>\n",
    "</div>"
   ]
  },
  {
   "cell_type": "markdown",
   "id": "62615432-647e-498a-9d1e-95617307e7ff",
   "metadata": {},
   "source": [
    "<div style=\"background-color: #002147; padding: 10px; text-align: center; color: white; font-size: 32px; font-family: 'Arial', sans-serif;\">\n",
    "AI-ProblemSolving  <br>\n",
    "    <h3 style=\"text-align: center; color: white; font-size: 15px; font-family: 'Arial', sans-serif;\"></h3>\n",
    "</div>"
   ]
  },
  {
   "cell_type": "markdown",
   "id": "487fe114-e67d-4720-a55f-98a397f7a2e6",
   "metadata": {},
   "source": [
    "<div style=\"background-color: purple; padding: 10px; text-align: center; color: white; font-size: 32px; font-family: 'Arial', sans-serif;\">\n",
    "Real life Scenario  <br>\n",
    "    <h3 style=\"text-alaign: center; color: white; font-size: 15px; font-family: 'Arial', sans-serif;\"></h3>\n",
    "</div>\n"
   ]
  },
  {
   "cell_type": "markdown",
   "id": "b37612b2-cfe2-46bd-a4fb-7e0fa00f7461",
   "metadata": {},
   "source": [
    "# Scenario: Student Failing a Class\n",
    "1. Who\n",
    "The student involved is Liam, a 10th-grade student, and his math teacher, Ms. Patel.\n",
    "\n",
    "2. What\n",
    "The problem is that Liam is consistently failing his math tests, scoring below 50% for the past two months.\n",
    "\n",
    "3. When\n",
    "The issue has been ongoing since the beginning of the semester, with a noticeable drop in performance after the first month.\n",
    "\n",
    "4. Where\n",
    "The problem is evident in the math classroom and in Liam's homework submissions.\n",
    "\n",
    "# Resolution Approach\n",
    "Ms. Patel schedules a meeting with Liam and his parents to understand any external issues (e.g., stress, learning difficulties).\n",
    "\n",
    "They discover Liam has been struggling with time management and missed key concepts in algebra.\n",
    "\n",
    "A tutoring plan is set up with weekly check-ins, and Liam is encouraged to attend after-school help sessions.\n",
    "\n",
    "Ms. Patel also adjusts her teaching strategy, offering more visual aids and practice problems."
   ]
  },
  {
   "cell_type": "markdown",
   "id": "3cd873c3-e927-4d61-ba33-b50bab6ec322",
   "metadata": {},
   "source": [
    "<div style=\"background-color: PINK; color: #fff; padding: 30px; text-align: center;\">\n",
    "    <h1>END!\n",
    "        <!--- Devashish Kumar | Tech Skills Trainer | CodroidHub Private Limited | AI/ML Consultant --->\n",
    "</h1> </div>"
   ]
  },
  {
   "cell_type": "markdown",
   "id": "bf6de204-b6cb-4607-9db3-cdcf606ec9c3",
   "metadata": {},
   "source": [
    "<div style=\"background-color: #002147; color: #fff; padding: 30px; text-align: center;\">\n",
    "    <h1>THANK YOU\n",
    "        <!--- Devashish Kumar | Tech Skills Trainer | CodroidHub Private Limited | AI/ML Consultant --->\n",
    "</h1> </div>"
   ]
  },
  {
   "cell_type": "code",
   "execution_count": null,
   "id": "0f3e795d-9dd8-491b-8f65-5f14d0ae109c",
   "metadata": {},
   "outputs": [],
   "source": []
  }
 ],
 "metadata": {
  "kernelspec": {
   "display_name": "Python 3 (ipykernel)",
   "language": "python",
   "name": "python3"
  },
  "language_info": {
   "codemirror_mode": {
    "name": "ipython",
    "version": 3
   },
   "file_extension": ".py",
   "mimetype": "text/x-python",
   "name": "python",
   "nbconvert_exporter": "python",
   "pygments_lexer": "ipython3",
   "version": "3.12.4"
  }
 },
 "nbformat": 4,
 "nbformat_minor": 5
}
