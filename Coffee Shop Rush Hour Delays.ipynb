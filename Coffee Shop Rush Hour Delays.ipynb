{
 "cells": [
  {
   "cell_type": "markdown",
   "id": "9eb87d5a-baa7-4090-bee1-84349fa2bda8",
   "metadata": {},
   "source": [
    "<div style=\"background-color: #add8e6; padding: 10px; height: 70px; border-radius: 15px;\">\n",
    "    <div style=\"font-family: 'Georgia', serif; font-size: 20px; padding: 10px; text-align: right; position: absolute; right: 20px;\">\n",
    "        Kanchan Sharma <br>\n",
    "        <span style=\"font-family: 'Arial', sans-serif;font-size: 12px; color: #0a0a0a;\">Tech Skills Trainee | AI/ML Bootcamp</span> \n",
    "    </div>\n",
    "</div>"
   ]
  },
  {
   "cell_type": "markdown",
   "id": "384ab265-296e-4391-a350-5f151c7aeb4f",
   "metadata": {},
   "source": [
    "<div style=\"background-color: #002147; padding: 10px; text-align: center; color: white; font-size: 32px; font-family: 'Arial', sans-serif;\">\n",
    "AI-ProblemSolving  <br>\n",
    "    <h3 style=\"text-align: center; color: white; font-size: 15px; font-family: 'Arial', sans-serif;\"></h3>\n",
    "</div>"
   ]
  },
  {
   "cell_type": "markdown",
   "id": "9f1e4856-8a47-4793-bd7c-f6aa0e1ffa27",
   "metadata": {},
   "source": [
    "<div style=\"background-color: purple; padding: 10px; text-align: center; color: white; font-size: 32px; font-family: 'Arial', sans-serif;\">\n",
    "Real life Scenario  <br>\n",
    "    <h3 style=\"text-align: center; color: white; font-size: 15px; font-family: 'Arial', sans-serif;\"></h3>\n",
    "</div>"
   ]
  },
  {
   "cell_type": "markdown",
   "id": "191800b5-d11a-4140-92fd-f8f8f93b2dc7",
   "metadata": {},
   "source": [
    "# Scenario 1: Coffee Shop Rush Hour Delays\n",
    "<h4>What?</h4>\n",
    "What is the problem?<br>\n",
    "\n",
    "Customers at a popular coffee shop are experiencing long wait times, especially during the morning rush hour.\n",
    "\n",
    "<h4>Why?</h4>\n",
    "Why is this happening?<br>\n",
    "\n",
    "The coffee shop has insufficient staff during peak hours, and the baristas are struggling to keep up with the number of orders. There’s also a bottleneck in the drink preparation process.\n",
    "\n",
    "<h4>When?</h4>\n",
    "When is this happening?<br>\n",
    "\n",
    "The delays occur mostly in the mornings, especially between 7 AM and 9 AM when there is a high volume of orders.\n",
    "\n",
    "<h4>Where?</h4>\n",
    "Where is this problem occurring?<br>\n",
    "\n",
    "The problem is occurring at the counter and in the preparation area, where drinks are being made and handed out.\n",
    "\n",
    "# Solution:\n",
    "Add an extra barista or two during rush hours, optimize the drink preparation layout to streamline the process, and encourage customers to place orders via mobile app to reduce line congestion."
   ]
  },
  {
   "cell_type": "markdown",
   "id": "55bcf44e-9248-4aac-9815-787e04f90850",
   "metadata": {},
   "source": [
    "<div style=\"background-color: pink; color: #fff; padding: 30px; text-align: center;\">\n",
    "    <h1>END\n",
    "        <!--- Devashish Kumar | Tech Skills Trainer | CodroidHub Private Limited | AI/ML Consultant --->\n",
    "</h1> </div>\n",
    "______\n",
    "<!--- Devashish Kumar | Tech Skills Trainer | CodroidHub Private Limited | AI/ML Consultant --->\n",
    "    </h1> </div>"
   ]
  },
  {
   "cell_type": "markdown",
   "id": "b1830747-3783-42a5-bbc9-58db2d46ab22",
   "metadata": {},
   "source": [
    "<div style=\"background-color: #002147; color: #fff; padding: 30px; text-align: center;\">\n",
    "    <h1>THANK YOU!\n",
    "        <!--- Devashish Kumar | Tech Skills Trainer | CodroidHub Private Limited | AI/ML Consultant --->\n",
    "</h1> </div>"
   ]
  },
  {
   "cell_type": "code",
   "execution_count": null,
   "id": "b460199e-843b-4902-b876-870860fc4489",
   "metadata": {},
   "outputs": [],
   "source": []
  }
 ],
 "metadata": {
  "kernelspec": {
   "display_name": "Python 3 (ipykernel)",
   "language": "python",
   "name": "python3"
  },
  "language_info": {
   "codemirror_mode": {
    "name": "ipython",
    "version": 3
   },
   "file_extension": ".py",
   "mimetype": "text/x-python",
   "name": "python",
   "nbconvert_exporter": "python",
   "pygments_lexer": "ipython3",
   "version": "3.12.4"
  }
 },
 "nbformat": 4,
 "nbformat_minor": 5
}
