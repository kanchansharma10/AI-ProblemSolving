{
 "cells": [
  {
   "cell_type": "markdown",
   "id": "e9a4115f-6071-4017-b31f-2ae6208a5b22",
   "metadata": {},
   "source": [
    "<div style=\"background-color: #add8e6; padding: 10px; height: 70px; border-radius: 15px;\">\n",
    "    <div style=\"font-family: 'Georgia', serif; font-size: 20px; padding: 10px; text-align: right; position: absolute; right: 20px;\">\n",
    "        Kanchan Sharma <br>\n",
    "        <span style=\"font-family: 'Arial', sans-serif;font-size: 12px; color: #0a0a0a;\">Tech Skills Trainee | AI/ML Bootcamp</span> \n",
    "    </div>\n",
    "</div>"
   ]
  },
  {
   "cell_type": "markdown",
   "id": "ea5c7eb6-7e73-4372-8db8-584e8ddfd300",
   "metadata": {},
   "source": [
    "<div style=\"background-color: #002147; padding: 10px; text-align: center; color: white; font-size: 32px; font-family: 'Arial', sans-serif;\">\n",
    "AI-ProblemSolving  <br>\n",
    "    <h3 style=\"text-align: center; color: white; font-size: 15px; font-family: 'Arial', sans-serif;\"></h3>\n",
    "</div>"
   ]
  },
  {
   "cell_type": "markdown",
   "id": "acc7731e-0d91-4643-bc06-b26de0e94886",
   "metadata": {},
   "source": [
    "<div style=\"background-color: purple; padding: 10px; text-align: center; color: white; font-size: 32px; font-family: 'Arial', sans-serif;\">\n",
    "Real life Scenario  <br>\n",
    "    <h3 style=\"text-alaign: center; color: white; font-size: 15px; font-family: 'Arial', sans-serif;\"></h3>\n",
    "</div>\n"
   ]
  },
  {
   "cell_type": "markdown",
   "id": "afc6bac6-113d-493c-915a-9469da9cc10c",
   "metadata": {},
   "source": [
    "\n",
    "\n",
    "##  **Problem Scenario**:\n",
    "\n",
    "Over the past 3 years, XYZ School has seen a consistent decline in student enrollment. Parents are choosing alternative schools, and the reputation of the school appears to be suffering despite maintaining the same academic structure.\n",
    "\n",
    "---\n",
    "\n",
    "## **Using 4Ws for Problem-Solving**\n",
    "\n",
    "---\n",
    "\n",
    "### 1. **WHAT** is the problem?\n",
    "\n",
    "* **Definition**: The number of students enrolling in the school has decreased year by year.\n",
    "* **Symptoms**:\n",
    "\n",
    "  * Fewer new admissions each academic session\n",
    "  * Higher student dropout rates\n",
    "  * Reduced income from tuition and fees\n",
    "  * Decreased participation in extracurricular events\n",
    "* **Impact**:\n",
    "\n",
    "  * Financial strain on the school\n",
    "  * Low morale among teachers and students\n",
    "  * Risk of closure of certain classes or programs\n",
    "\n",
    "---\n",
    "\n",
    "### 2. **WHY** is it happening?\n",
    "\n",
    "* **Possible Causes**:\n",
    "\n",
    "  * Lack of innovation in teaching methods (no smart classes or digital tools)\n",
    "  * Poor academic results in board exams\n",
    "  * Limited extracurricular activities or poor sports infrastructure\n",
    "  * Ineffective marketing and school branding\n",
    "  * Negative word-of-mouth or online reviews\n",
    "  * Emergence of better-equipped schools nearby (competition)\n",
    "  * Poor parent-teacher communication or satisfaction\n",
    "\n",
    "---\n",
    "\n",
    "### 3. **WHERE** is it happening?\n",
    "\n",
    "* **Location Analysis**:\n",
    "\n",
    "  * Primarily in middle and higher grades (Class 6–10)\n",
    "  * In urban areas of the school’s zone where parents have more schooling options\n",
    "  * Also reflected in nearby neighborhoods with new private schools opening\n",
    "* **Affected Stakeholders**:\n",
    "\n",
    "  * Students\n",
    "  * Parents\n",
    "  * Teachers and staff\n",
    "  * School management and board\n",
    "\n",
    "---\n",
    "\n",
    "### 4. **WHEN** did it start?\n",
    "\n",
    "* **Timeline**:\n",
    "\n",
    "  * Three years ago, during the pandemic (possibly due to poor online learning)\n",
    "  * Enrollment fell from 900 students to 620 over 3 years\n",
    "  * Sharpest drop seen during the last admission cycle\n",
    "* **Trigger Events**:\n",
    "\n",
    "  * Parent dissatisfaction during remote learning\n",
    "  * Two new competitor schools opened in the area\n",
    "  * School did not upgrade infrastructure post-COVID\n",
    "\n",
    "---\n",
    "\n",
    "##  **Solution Plan Based on the Analysis**\n",
    "\n",
    "| Area of Focus                  | Action Plan                                                                                |\n",
    "| ------------------------------ | ------------------------------------------------------------------------------------------ |\n",
    "| **Academics**                  | Revise curriculum, integrate technology (smart classes), provide teacher training          |\n",
    "| **Marketing & Branding**       | Launch a digital campaign (social media, open house events), build a modern school website |\n",
    "| **Parent Engagement**          | Create feedback forums, regular PTMs, satisfaction surveys                                 |\n",
    "| **Extracurricular Activities** | Expand sports, music, and arts programs; organize interschool competitions                 |\n",
    "| **Infrastructure**             | Modernize classrooms, improve cleanliness, add digital libraries                           |\n",
    "| **Reputation Management**      | Address online reviews, highlight success stories on platforms like Google and Facebook    |\n",
    "| **Alumni Network**             | Engage successful alumni to promote the school and mentor current students                 |\n",
    "| **Admissions Drive**           | Offer scholarships, referral discounts, host community events to attract new families      |\n",
    "\n",
    "---\n",
    "\n",
    "## 📊 Example of Success Metric Tracking\n",
    "\n",
    "| Metric                    | Current | Target (Next Year) |\n",
    "| ------------------------- | ------- | ------------------ |\n",
    "| Student Enrollment        | 620     | 700+               |\n",
    "| Parent Satisfaction Score | 65%     | 85%                |\n",
    "| New Admissions            | 80      | 150                |\n",
    "| Dropout Rate              | 12%     | < 5%               |\n",
    "\n",
    "---\n",
    "\n",
    "\n"
   ]
  },
  {
   "cell_type": "markdown",
   "id": "c3a3cc08-e18e-4c5f-b094-56ad0e2cd1d3",
   "metadata": {},
   "source": [
    "<div style=\"background-color: PINK; color: #fff; padding: 30px; text-align: center;\">\n",
    "    <h1>END!\n",
    "        <!--- Devashish Kumar | Tech Skills Trainer | CodroidHub Private Limited | AI/ML Consultant --->\n",
    "</h1> </div>"
   ]
  },
  {
   "cell_type": "markdown",
   "id": "53c38f48-8b0b-49ce-bcb0-49a79b649298",
   "metadata": {},
   "source": [
    "<div style=\"background-color: #002147; color: #fff; padding: 30px; text-align: center;\">\n",
    "    <h1>THANK YOU\n",
    "        <!--- Devashish Kumar | Tech Skills Trainer | CodroidHub Private Limited | AI/ML Consultant --->\n",
    "</h1> </div>"
   ]
  },
  {
   "cell_type": "code",
   "execution_count": null,
   "id": "c73a9a36-f198-4048-9780-52db51a19e4f",
   "metadata": {},
   "outputs": [],
   "source": []
  }
 ],
 "metadata": {
  "kernelspec": {
   "display_name": "Python 3 (ipykernel)",
   "language": "python",
   "name": "python3"
  },
  "language_info": {
   "codemirror_mode": {
    "name": "ipython",
    "version": 3
   },
   "file_extension": ".py",
   "mimetype": "text/x-python",
   "name": "python",
   "nbconvert_exporter": "python",
   "pygments_lexer": "ipython3",
   "version": "3.12.4"
  }
 },
 "nbformat": 4,
 "nbformat_minor": 5
}
