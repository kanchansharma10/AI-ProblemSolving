{
 "cells": [
  {
   "cell_type": "markdown",
   "id": "58c914c7-9803-408b-8e25-21e558417fc7",
   "metadata": {},
   "source": [
    "<div style=\"background-color: #add8e6; padding: 10px; height: 70px; border-radius: 15px;\">\n",
    "    <div style=\"font-family: 'Georgia', serif; font-size: 20px; padding: 10px; text-align: right; position: absolute; right: 20px;\">\n",
    "        Kanchan Sharma <br>\n",
    "        <span style=\"font-family: 'Arial', sans-serif;font-size: 12px; color: #0a0a0a;\">Tech Skills Trainee | AI/ML Bootcamp</span> \n",
    "    </div>\n",
    "</div>"
   ]
  },
  {
   "cell_type": "markdown",
   "id": "bc09cb25-ac68-4dbd-b86e-f361f114e83f",
   "metadata": {},
   "source": [
    "<div style=\"background-color: #002147; padding: 10px; text-align: center; color: white; font-size: 32px; font-family: 'Arial', sans-serif;\">\n",
    "    AI-ProblemSolving <br>\n",
    "    <h3 style=\"text-align: center; color: white; font-size: 15px; font-family: 'Arial', sans-serif;\">Introduction</h3>\n",
    "</div>"
   ]
  },
  {
   "cell_type": "markdown",
   "id": "a3227030-b441-4ace-a5d9-a52a6f49d5a6",
   "metadata": {},
   "source": [
    "\n",
    "AI problem solving represents a significant shift in how we approach complex challenges. By leveraging machine learning, data analytics, and intelligent algorithms, AI has the potential to provide insights and solutions that were once impossible or impractical with traditional methods. The cycle of identifying the problem, collecting data, selecting the right model, training it, evaluating, deploying, and refining allows AI to adapt and improve continuously, driving efficiency, accuracy, and innovation across industrie"
   ]
  },
  {
   "cell_type": "markdown",
   "id": "a730f807-ad95-4e43-af21-c29204b10a56",
   "metadata": {},
   "source": [
    "# AI Problem Solving Process (Points)\n",
    "<h4>1. Problem Definition:</h4>\n",
    "\n",
    "(i).  Clearly identify the core problem to solve.\n",
    "\n",
    "(ii). Set objectives and success criteria.\n",
    "\n",
    "<h4>2. Data Collection and Preparation:</h4>\n",
    "\n",
    "(i).  Gather data from various sources.\n",
    "\n",
    "(ii). Clean, preprocess, and organize data for AI models.\n",
    "\n",
    "<h4>3. Model Selection:</h4>\n",
    "\n",
    "(i). Choose the appropriate AI algorithm (e.g., supervised learning, unsupervised learning, reinforcement learning).\n",
    "\n",
    "(ii). Consider complexity, data availability, and desired outcomes.\n",
    "\n",
    "<h4>4. Model Training:</h4>\n",
    "\n",
    "(i). Train the model using historical/labeled data.\n",
    "\n",
    "(ii). Adjust parameters for pattern recognition and decision-making.\n",
    "\n",
    "<h4>5. Evaluation:</h4>\n",
    "\n",
    "(i). Test the model’s performance using metrics (e.g., accuracy, precision, recall).\n",
    "\n",
    "(ii). Assess the model’s generalization ability with cross-validation.\n",
    "\n",
    "<h4>6. Deployment:</h4>\n",
    "\n",
    "(i). Implement the model in real-world applications.\n",
    "\n",
    "(ii).Start making predictions, recommendations, or decisions.\n",
    "\n",
    "<h4>7. Monitoring and Refinement:</h4>\n",
    "\n",
    "(i). Continuously monitor the system's performance.\n",
    "\n",
    "(ii). Retrain or adjust the model with new data or feedback"
   ]
  },
  {
   "cell_type": "markdown",
   "id": "f29113c2-9876-4c06-88bc-949cdbceaaa9",
   "metadata": {},
   "source": [
    "\n",
    "# Key AI Techniques for Problem Solving (Points)\n",
    "<h4>1. Machine Learning (ML):</h4>\n",
    "\n",
    "Learn from data to improve over time without explicit programming.\n",
    "\n",
    "Includes techniques like regression, classification, clustering, and reinforcement learning.\n",
    "\n",
    "<h4>2. Natural Language Processing (NLP):</h4>\n",
    "\n",
    "Understand and generate human language (e.g., chatbots, sentiment analysis).\n",
    "\n",
    "<h4>3. Computer Vision:</h4>\n",
    "\n",
    "Interpret visual data (e.g., object detection, facial recognition).\n",
    "\n",
    "<h4>4. Optimization:</h4>\n",
    "\n",
    "Solve optimization problems to find the best solution (e.g., genetic algorithms, resource allocation).\n",
    "\n",
    "<h4>5.Expert Systems:</h4>\n",
    "\n",
    "Use predefined rules and knowledge for decision-making (e.g., diagnostic systems, recommendation engines)."
   ]
  },
  {
   "cell_type": "markdown",
   "id": "9bd4d6d4-8b3c-462f-ad61-d89f3badf829",
   "metadata": {},
   "source": [
    "# Real-World Examples of AI Problem Solving (Points)\n",
    "<h4>1. Healthcare:</h4>\n",
    "\n",
    "Predict patient outcomes.\n",
    "\n",
    "Disease detection from medical images.\n",
    "\n",
    "Personalized treatment recommendations.\n",
    "\n",
    "<h4>2. Finance:</h4>\n",
    "\n",
    "Fraud detection.\n",
    "\n",
    "Algorithmic trading.\n",
    "\n",
    "Credit scoring.\n",
    "\n",
    "<h4>3. Transportation:</h4>\n",
    "\n",
    "Self-driving cars (e.g., object recognition, route planning).\n",
    "\n",
    "<h4>4. Customer Service:</h4>\n",
    "\n",
    "Chatbots and virtual assistants for customer queries.\n",
    "\n",
    "Personalized service based on historical data.\n",
    "\n",
    "\n",
    "\n",
    "\n",
    "\n"
   ]
  },
  {
   "cell_type": "markdown",
   "id": "44568db6-684c-4562-890a-27cbb1e935a7",
   "metadata": {},
   "source": [
    "# 4'w problem\n",
    "\n",
    "The 4W Problem (also called the Four Ws Problem) is a problem-solving approach that helps break down complex issues by answering four simple questions: What, Why, Who, and When."
   ]
  },
  {
   "cell_type": "markdown",
   "id": "ea6e42d2-a88f-4918-a102-fe229c81b227",
   "metadata": {},
   "source": [
    "# Take a real-life scenario.\n",
    "Let’s use this scenario where a company is facing challenges with customer complaints about delayed deliveries. The company is a logistics service provider, and they want to address these issues.\n",
    "\n",
    "<h5>Scenario: Customer Complaints About Delayed Deliveries</h5>\n"
   ]
  },
  {
   "cell_type": "markdown",
   "id": "43a4837f-5089-40e9-9d05-61e7b385f35c",
   "metadata": {},
   "source": [
    "<h5>1. What?</h5>\n",
    "1. Problem: Customers have been complaining about delayed deliveries. This is affecting customer satisfaction and potentially leading to a loss of business.\n",
    "\n",
    "2. Details: The company has been receiving increasing complaints, particularly about long delivery times and missed delivery windows. There’s also a pattern of delays around peak shopping seasons.\n",
    "\n",
    "<h5>2. Why?</h5>\n",
    "1. Root Cause: The issue could stem from several possible reasons, and this question helps dig into the underlying causes.\n",
    "\n",
    "2. Operational Issues: Delays could be due to inefficient route planning or poor warehouse management.\n",
    "\n",
    "3. Logistics Bottlenecks: There could be a lack of coordination between distribution centers, delays in processing orders, or under-staffed delivery teams.\n",
    "\n",
    "4. External Factors: Bad weather, traffic, or road closures might be contributing to delays.\n",
    "\n",
    "5. System or Software Problems: The company’s order-tracking system might not be updated in real-time, causing misinformation or poor communication with customers.\n",
    "\n",
    "6. Capacity Issues: During peak times (e.g., holidays), the demand for delivery services may exceed the company’s capacity to handle it, causing delays."
   ]
  },
  {
   "cell_type": "markdown",
   "id": "a9b7dd3e-9433-4d4d-b427-b7fd824dcb14",
   "metadata": {},
   "source": [
    "<h5>3. Who?</h5>\n",
    "Key Stakeholders Involved:\n",
    "\n",
    "1. Customers: The ultimate recipients of deliveries, whose complaints need to be addressed.\n",
    "\n",
    "2. Logistics Team: Responsible for managing the day-to-day operations of deliveries, including route planning, vehicle management, and scheduling.\n",
    "\n",
    "3. Warehouse Staff: People who prepare and dispatch the goods.\n",
    "\n",
    "4. Customer Service Team: They are handling the complaints and need to be equipped with the right tools to provide real-time updates to customers.\n",
    "\n",
    "5. IT Team: If there are issues with the tracking or order management system, they will need to troubleshoot and resolve them.\n",
    "\n",
    "6. Management: Senior leadership, who need to make decisions regarding resource allocation, process changes, and customer satisfaction strategies."
   ]
  },
  {
   "cell_type": "markdown",
   "id": "e31ad4b0-0068-4f76-9ca0-571052146b21",
   "metadata": {},
   "source": [
    "<h5>4. When?</h5>\n",
    "Timeframe of the Problem:\n",
    "1. Short-Term: Immediate complaints need to be addressed. Delays could be causing immediate loss of customer trust and affecting sales.\n",
    "\n",
    "2. Long-Term: Understanding if delays occur during peak seasons, such as holidays or sales events, and building systems that can handle those spikes better in the future.\n",
    "\n",
    "3. Immediate Actions: The logistics team could evaluate current routes and identify where immediate adjustments can be made. The IT team may fix any technical issues affecting tracking.\n",
    "\n",
    "4. Future Plans: The company should consider implementing AI-driven route optimization, better warehouse management tools, or even diversifying delivery methods (e.g., drones or third-party services) during busy periods."
   ]
  },
  {
   "cell_type": "markdown",
   "id": "ec2340f5-d5e1-448c-9838-2e92128a36eb",
   "metadata": {},
   "source": [
    "# Problem-Solving Steps Using the 4W Framework"
   ]
  },
  {
   "cell_type": "markdown",
   "id": "3ff4d34f-642d-477e-ac39-0239fd72c661",
   "metadata": {},
   "source": [
    "<h5>1. Gathering Data (What and Why):</h5>\n",
    "1. The company would gather data on delivery times, order processing times, warehouse operations, and customer complaints.<br>\n",
    "2. Analyze patterns: Are delays happening more often in certain regions? Are specific products or timeframes associated with delays?\n",
    "\n",
    "<h5>2. Identifying Causes (Why):</h5>\n",
    "1. Is there an issue with the delivery route? Is the logistics team overwhelmed during peak seasons?<br>\n",
    "2. Are there external factors like bad weather or road closures frequently affecting deliveries?\n",
    "\n",
    "<h5>3. Assigning Responsibility (Who):</h5>\n",
    "1. The logistics team could focus on optimizing routes and managing traffic patterns.<br>\n",
    "2. The customer service team might need better tools to provide customers with accurate delivery time predictions.<br>\n",
    "3. The IT team could examine the backend system and resolve any issues with tracking or updating delivery statuses.<br>\n",
    "4. Senior management could prioritize investments in technology to address the issues in the long run.<br>\n",
    "\n",
    "<h5>4. Setting Timelines (When):</h5>\n",
    "1. Short-Term: Make quick adjustments like improving communication with customers, adjusting delivery schedules, or re-routing vehicles.<br>\n",
    "2. Long-Term: Invest in technology for route optimization and forecasting, or implement a more scalable delivery system for peak seasons.\n",
    "\n"
   ]
  },
  {
   "cell_type": "markdown",
   "id": "ac64abd1-bb7e-42a2-84e0-f42e6e14aa58",
   "metadata": {},
   "source": [
    "\n",
    "# Outcome:\n",
    "1. By addressing the 4W Problem, the company could uncover multiple factors contributing to delayed deliveries and take targeted actions to resolve them:<br>\n",
    "2. Operational improvements: Optimized routes, better scheduling, and improved warehouse processes.<br>\n",
    "\n",
    "3. Customer satisfaction: More accurate delivery predictions, improved communication during delays, and timely customer support.<br>\n",
    "\n",
    "4. Technology investments: Using AI for route optimization and predictive analytics for demand forecasting during peak times.<br>\n",
    "\n",
    "The 4W framework helps to clearly break down and solve problems by analyzing each aspect systematically, leading to more informed, actionable solutions."
   ]
  },
  {
   "cell_type": "markdown",
   "id": "37c7040d-ff3a-4ac1-ac36-07bc826375c1",
   "metadata": {},
   "source": [
    "<div style=\"background-color: red; color: #fff; padding: 30px; text-align: center;\">\n",
    "    <h1>END\n",
    "        <!--- Devashish Kumar | Tech Skills Trainer | CodroidHub Private Limited | AI/ML Consultant --->\n",
    "</h1> </div>\n",
    "______\n",
    "<!--- Devashish Kumar | Tech Skills Trainer | CodroidHub Private Limited | AI/ML Consultant --->\n",
    "    </h1> </div>"
   ]
  },
  {
   "cell_type": "markdown",
   "id": "427cb363-68e0-48d0-9a44-51dad5a99d39",
   "metadata": {},
   "source": [
    "<div style=\"background-color: #002147; color: #fff; padding: 30px; text-align: center;\">\n",
    "    <h1>THANK YOU!\n",
    "        <!--- Devashish Kumar | Tech Skills Trainer | CodroidHub Private Limited | AI/ML Consultant --->\n",
    "</h1> </div>"
   ]
  },
  {
   "cell_type": "code",
   "execution_count": null,
   "id": "ad0acdbb-593c-4b89-b75b-7411dd042254",
   "metadata": {},
   "outputs": [],
   "source": []
  }
 ],
 "metadata": {
  "kernelspec": {
   "display_name": "Python 3 (ipykernel)",
   "language": "python",
   "name": "python3"
  },
  "language_info": {
   "codemirror_mode": {
    "name": "ipython",
    "version": 3
   },
   "file_extension": ".py",
   "mimetype": "text/x-python",
   "name": "python",
   "nbconvert_exporter": "python",
   "pygments_lexer": "ipython3",
   "version": "3.12.4"
  }
 },
 "nbformat": 4,
 "nbformat_minor": 5
}
