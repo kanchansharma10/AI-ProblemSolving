{
 "cells": [
  {
   "cell_type": "markdown",
   "id": "2eaf19e9-7df1-447d-a0cf-ea7424a85014",
   "metadata": {},
   "source": [
    "<div style=\"background-color: #add8e6; padding: 10px; height: 70px; border-radius: 15px;\">\n",
    "    <div style=\"font-family: 'Georgia', serif; font-size: 20px; padding: 10px; text-align: right; position: absolute; right: 20px;\">\n",
    "        Kanchan Sharma <br>\n",
    "        <span style=\"font-family: 'Arial', sans-serif;font-size: 12px; color: #0a0a0a;\">Tech Skills Trainee | AI/ML Bootcamp</span> \n",
    "    </div>\n",
    "</div>"
   ]
  },
  {
   "cell_type": "markdown",
   "id": "285a109d-b025-4fbb-abb9-514c6488647d",
   "metadata": {},
   "source": [
    "<div style=\"background-color: #002147; padding: 10px; text-align: center; color: white; font-size: 32px; font-family: 'Arial', sans-serif;\">\n",
    "AI-ProblemSolving  <br>\n",
    "    <h3 style=\"text-align: center; color: white; font-size: 15px; font-family: 'Arial', sans-serif;\"></h3>\n",
    "</div>"
   ]
  },
  {
   "cell_type": "markdown",
   "id": "feb9d180-7c5f-4b17-9bb4-1b542a2e7bdb",
   "metadata": {},
   "source": [
    "<div style=\"background-color: purple; padding: 10px; text-align: center; color: white; font-size: 32px; font-family: 'Arial', sans-serif;\">\n",
    "Real life Scenario  <br>\n",
    "    <h3 style=\"text-align: center; color: white; font-size: 15px; font-family: 'Arial', sans-serif;\"></h3>\n",
    "</div>"
   ]
  },
  {
   "cell_type": "markdown",
   "id": "977ccdd0-c328-4a9e-a0d1-dde2a9713c8a",
   "metadata": {},
   "source": [
    "\n",
    "\n",
    "###  Network Outage at a Digital Marketing Agency\n",
    "\n",
    "#### **Scenario:**\n",
    "A digital marketing agency relies heavily on online tools and cloud-based services to manage clients' campaigns. One day, the agency experiences a sudden **network outage** that affects internet access and the ability to work on client accounts. As a result, the team cannot access the marketing platforms, causing a delay in reporting and campaign management.\n",
    "\n",
    "#### **Problem-Solving Using the 4W Framework:**\n",
    "\n",
    "---\n",
    "\n",
    "### **1. What:**\n",
    "\n",
    "- **Problem**: The digital marketing team is unable to access key online platforms due to a network outage. This is causing delays in executing marketing campaigns, responding to clients, and generating performance reports.\n",
    "\n",
    "- **Impact**: The agency has multiple clients whose campaigns are being affected, which risks client dissatisfaction and a potential loss of business. The delay could also cause the team to miss key reporting deadlines.\n",
    "\n",
    "---\n",
    "\n",
    "### **2. Why:**\n",
    "\n",
    "- **Cause**: The network outage occurred due to a **technical failure in the agency’s internet service provider’s infrastructure**. The ISP experienced an unplanned server issue, resulting in a total loss of connectivity.\n",
    "\n",
    "- **Root Cause**: The issue wasn’t directly within the agency’s control, but a lack of backup or contingency plans for such a scenario left the team without a quick solution.\n",
    "\n",
    "---\n",
    "\n",
    "### **3. When:**\n",
    "\n",
    "- **Timing**: The issue needs to be resolved urgently because it’s affecting the team’s ability to meet the **clients’ daily requirements**. The problem was discovered in the morning, and by the afternoon, the team would be unable to finish any critical tasks, such as client reports or campaign adjustments.\n",
    "\n",
    "- **Urgency**: Delays in campaign execution can lead to poor performance, client dissatisfaction, and potential loss of clients. Additionally, reporting deadlines are looming.\n",
    "\n",
    "---\n",
    "\n",
    "### **4. Who:**\n",
    "\n",
    "- **Who is impacted**:\n",
    "   - **Agency Staff**: All employees are affected as they rely on internet access to perform their daily tasks.\n",
    "   - **Clients**: They are waiting for updated reports and performance metrics.\n",
    "   - **Internet Service Provider (ISP)**: They are responsible for the network failure and need to resolve the issue.\n",
    "   - **Agency Management**: The management needs to address the issue quickly to minimize client impact and maintain business continuity.\n",
    "\n",
    "---\n",
    "\n",
    "### **Solution:**\n",
    "\n",
    "1. **Immediate Response**:\n",
    "   - The **agency manager** immediately contacts the **ISP’s customer service** team to report the outage. After confirming the issue on their end, the ISP assures the agency that it will be resolved within a few hours.\n",
    "   - Meanwhile, the **agency manager** notifies all employees about the issue and asks them to switch to offline tasks that don't require internet access, such as drafting content, reviewing reports, or preparing for upcoming campaigns.\n",
    "   \n",
    "2. **Alternative Workarounds**:\n",
    "   - The **IT team** within the agency looks for alternative solutions. They set up a temporary **mobile hotspot** for critical staff members to access key accounts or respond to urgent client emails. The IT team also checks if the office’s secondary internet line can be used to restore partial connectivity.\n",
    "   \n",
    "3. **Communication with Clients**:\n",
    "   - The **customer service** or **account management** team reaches out to affected clients to explain the situation. They let clients know about the outage and provide an updated timeline for when reports or campaign adjustments will be delivered.\n",
    "   - In some cases, the team offers clients a **compensation**, such as a discount or an extra service, for the inconvenience caused by the delay.\n",
    "   \n",
    "4. **Monitoring and Updates**:\n",
    "   - The **agency manager** maintains constant communication with the **ISP** for status updates on the outage. The manager also ensures that staff members are informed about progress, so they can be ready to resume work immediately once the internet is restored.\n",
    "\n",
    "5. **Post-Outage Evaluation**:\n",
    "   - After the network is restored, the team works hard to catch up on all delayed tasks and meets any remaining deadlines. The **agency manager** conducts a meeting with the team to discuss ways to prevent this from happening again, including:\n",
    "     - Implementing **backup internet connections** (e.g., secondary internet service or mobile hotspots).\n",
    "     - Reviewing **contingency plans** for critical systems to ensure work can continue during future outages.\n",
    "     - Setting up **offline processes** for future disruptions, like downloading key reports or working on creative aspects of campaigns.\n",
    "\n",
    "---\n",
    "\n",
    "### **Result:**\n",
    "\n",
    "- The **network is restored** within a few hours, and the agency is able to catch up on work by prioritizing urgent tasks.\n",
    "- Clients are **informed** early and feel reassured by the proactive communication and compensation offered for the inconvenience.\n",
    "- The **agency’s reputation** is preserved because clients appreciate the transparency and professionalism displayed during the issue.\n",
    "- The **agency implements new backup systems** and contingency measures, ensuring that future outages have minimal impact on client work and team productivity.\n",
    "\n",
    "\n"
   ]
  },
  {
   "cell_type": "markdown",
   "id": "6ca572b6-fc76-4225-9058-4daafb66e66b",
   "metadata": {},
   "source": [
    "<div style=\"background-color: PINK; color: #fff; padding: 30px; text-align: center;\">\n",
    "    <h1>END!\n",
    "        <!--- Devashish Kumar | Tech\n",
    "        Skills Trainer | CodroidHub Private Limited | AI/ML Consultant --->\n",
    "</h1> </div>"
   ]
  },
  {
   "cell_type": "markdown",
   "id": "f47eb94f-38fc-40a1-a9e1-87285ae14cc2",
   "metadata": {},
   "source": [
    "<div style=\"background-color: #002147; color: #fff; padding: 30px; text-align: center;\">\n",
    "    <h1>THANK YOU!\n",
    "        <!--- Devashish Kumar | Tech Skills Trainer | CodroidHub Private Limited | AI/ML Consultant --->\n",
    "</h1> </div>"
   ]
  },
  {
   "cell_type": "code",
   "execution_count": null,
   "id": "52ac181f-07da-4256-90f2-21ff8b439537",
   "metadata": {},
   "outputs": [],
   "source": []
  }
 ],
 "metadata": {
  "kernelspec": {
   "display_name": "Python 3 (ipykernel)",
   "language": "python",
   "name": "python3"
  },
  "language_info": {
   "codemirror_mode": {
    "name": "ipython",
    "version": 3
   },
   "file_extension": ".py",
   "mimetype": "text/x-python",
   "name": "python",
   "nbconvert_exporter": "python",
   "pygments_lexer": "ipython3",
   "version": "3.12.4"
  }
 },
 "nbformat": 4,
 "nbformat_minor": 5
}
